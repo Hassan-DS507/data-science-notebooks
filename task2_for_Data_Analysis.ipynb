{
  "nbformat": 4,
  "nbformat_minor": 0,
  "metadata": {
    "colab": {
      "private_outputs": true,
      "provenance": [],
      "cell_execution_strategy": "setup",
      "authorship_tag": "ABX9TyPlc4ruFpWn9+ki6Pozh3mK",
      "include_colab_link": true
    },
    "kernelspec": {
      "name": "python3",
      "display_name": "Python 3"
    },
    "language_info": {
      "name": "python"
    }
  },
  "cells": [
    {
      "cell_type": "markdown",
      "metadata": {
        "id": "view-in-github",
        "colab_type": "text"
      },
      "source": [
        "<a href=\"https://colab.research.google.com/github/Hassan-DS507/data-science-notebooks/blob/main/task2_for_Data_Analysis.ipynb\" target=\"_parent\"><img src=\"https://colab.research.google.com/assets/colab-badge.svg\" alt=\"Open In Colab\"/></a>"
      ]
    },
    {
      "cell_type": "markdown",
      "source": [
        "#  Data Analysis Plan for Tom Clinic Dataset\n",
        "\n",
        "This notebook summarizes the steps for analyzing the cleaned sales dataset. We will explore the data, visualize trends, and highlight key business insights.\n",
        "\n"
      ],
      "metadata": {
        "id": "a3aEOAh1XG-I"
      }
    },
    {
      "cell_type": "markdown",
      "source": [
        "##  Step 1: Import Necessary Libraries"
      ],
      "metadata": {
        "id": "kXKCF9RMONie"
      }
    },
    {
      "cell_type": "code",
      "source": [
        "\n",
        "# Data Handling\n",
        "import pandas as pd\n",
        "import numpy as np\n",
        "\n",
        "# Visualization\n",
        "import matplotlib.pyplot as plt\n",
        "import seaborn as sns\n",
        "\n",
        "# Warnings\n",
        "import warnings\n",
        "warnings.filterwarnings('ignore')"
      ],
      "metadata": {
        "id": "hvFw3P2nONQX"
      },
      "execution_count": null,
      "outputs": []
    },
    {
      "cell_type": "code",
      "source": [
        "#  Suppress Warnings\n",
        "warnings.filterwarnings(\"ignore\")\n",
        "\n",
        "#  Define Color Palette (Rain Vibe)\n",
        "rain_colors = [\n",
        "    \"#00BFFF\", \"#1E90FF\", \"#4682B4\", \"#5F9EA0\", \"#6495ED\",\n",
        "    \"#7B68EE\", \"#6A5ACD\", \"#483D8B\", \"#87CEFA\", \"#4169E1\"\n",
        "]\n",
        "\n",
        "#  Set Color Palette and Style\n",
        "sns.set_palette(sns.color_palette(rain_colors))\n",
        "sns.set_style(\"whitegrid\")         # Light grid background\n",
        "sns.set_context(\"talk\")            # Larger fonts for presentations\n",
        "\n",
        "#  General Plot Settings\n",
        "plt.rcParams['figure.figsize']     = (12, 6)    # Default figure size\n",
        "plt.rcParams['axes.titlesize']     = 18         # Title size\n",
        "plt.rcParams['axes.labelsize']     = 14         # Axis label size\n",
        "plt.rcParams['xtick.labelsize']    = 12         # X-axis tick size\n",
        "plt.rcParams['ytick.labelsize']    = 12         # Y-axis tick size\n",
        "plt.rcParams['legend.fontsize']    = 12         # Legend font size\n",
        "plt.rcParams['figure.dpi']         = 100        # Resolution\n",
        "\n",
        "#  Pandas Display Settings\n",
        "pd.options.display.float_format = '{:,.2f}'.format\n",
        "pd.set_option('display.max_columns', 100)\n",
        "\n",
        "#  Show palette preview\n",
        "sns.palplot(sns.color_palette(rain_colors))\n",
        "plt.title(\"Rain Color Palette - Tom Clinic Theme\", fontsize=16)\n",
        "plt.axis('off')\n",
        "plt.show()\n"
      ],
      "metadata": {
        "id": "sxfttZAvY3Yg"
      },
      "execution_count": null,
      "outputs": []
    },
    {
      "cell_type": "markdown",
      "metadata": {
        "id": "dkrO1mDReeoh"
      },
      "source": [
        "# Step 2: Load the Datasetet\n",
        "We load the dataset and take an initial look at its structure."
      ]
    },
    {
      "cell_type": "code",
      "execution_count": null,
      "metadata": {
        "id": "UdhXr1zjWRAH"
      },
      "outputs": [],
      "source": [
        "from google.colab import drive\n",
        "drive.mount('/content/drive')"
      ]
    },
    {
      "cell_type": "code",
      "execution_count": null,
      "metadata": {
        "id": "5_kJePAtNpIz"
      },
      "outputs": [],
      "source": [
        "df = pd.read_csv('/content/drive/MyDrive/tasks_to_dataset/cleaned_data.csv')\n",
        "df.head()"
      ]
    },
    {
      "cell_type": "markdown",
      "source": [
        "## 1.  Exploratory Data Analysis (EDA)\n",
        "**Goal:** Understand the structure and quality of the data.\n",
        "\n",
        "- Check the number of rows, columns, and data types.\n",
        "- Look for missing or unusual values.\n",
        "- Display sample rows from the dataset.\n",
        "- Generate summary statistics (mean, median, min, max).\n",
        "- Analyze distributions of:\n",
        "  - Quantity\n",
        "  - Unit Price\n",
        "  - Total Price\n",
        "- Count unique values in key columns:\n",
        "  - Products\n",
        "  - Branches\n",
        "  - Payment Methods"
      ],
      "metadata": {
        "id": "M1gj4lDr8Id3"
      }
    },
    {
      "cell_type": "code",
      "source": [
        "df.sample(5)"
      ],
      "metadata": {
        "id": "mUzumve9Rk63"
      },
      "execution_count": null,
      "outputs": []
    },
    {
      "cell_type": "code",
      "source": [
        "df['Date']"
      ],
      "metadata": {
        "id": "se7FR8MAcIWB"
      },
      "execution_count": null,
      "outputs": []
    },
    {
      "cell_type": "markdown",
      "source": [
        "##Extracting Day, Month, and Year from a Date Column\n",
        "To engineer useful time-based features from a Date column, you can extract the day, month, and year components.\n"
      ],
      "metadata": {
        "id": "AAyqnL796QnH"
      }
    },
    {
      "cell_type": "code",
      "source": [
        "# Convert the 'Date' column to datetime format\n",
        "df['Date'] = pd.to_datetime(df['Date'], dayfirst=True, errors='coerce')\n",
        "\n",
        "# Extract day, month, and year into separate columns\n",
        "df['Day'] = df['Date'].dt.day\n",
        "df['Month'] = df['Date'].dt.month\n",
        "df['Year'] = df['Date'].dt.year"
      ],
      "metadata": {
        "id": "mtHjYFi65sUp"
      },
      "execution_count": null,
      "outputs": []
    },
    {
      "cell_type": "code",
      "source": [
        "df.columns"
      ],
      "metadata": {
        "id": "yU_aCEnJ6z-Z"
      },
      "execution_count": null,
      "outputs": []
    },
    {
      "cell_type": "code",
      "source": [
        "df.drop(columns='Date',inplace=True)"
      ],
      "metadata": {
        "id": "1zHYQVx48hLP"
      },
      "execution_count": null,
      "outputs": []
    },
    {
      "cell_type": "code",
      "source": [
        "df"
      ],
      "metadata": {
        "id": "Cw2-Z0Dj8xZ_"
      },
      "execution_count": null,
      "outputs": []
    },
    {
      "cell_type": "code",
      "source": [
        "df.isna().sum()"
      ],
      "metadata": {
        "id": "CvpTc9fq67I_"
      },
      "execution_count": null,
      "outputs": []
    },
    {
      "cell_type": "markdown",
      "source": [
        "## Date Column Processed and Ready\n",
        "\n",
        "We converted the `Date` column to proper datetime format.\n",
        "\n",
        "Then we created three new columns:\n",
        "\n",
        "- `Day` – day of the month  \n",
        "- `Month` – month number  \n",
        "- `Year` – full year\n",
        "-Delete `Date` columns\n",
        "-All values were checked and there are no errors or missing dates.\n",
        "- The data is clean and ready for **analysis**."
      ],
      "metadata": {
        "id": "TEsapdYr7mPv"
      }
    },
    {
      "cell_type": "markdown",
      "source": [
        "## Generate summary statistics (mean, median, min, max)."
      ],
      "metadata": {
        "id": "APE8NuWL8Can"
      }
    },
    {
      "cell_type": "code",
      "source": [
        "df.describe().transpose()"
      ],
      "metadata": {
        "id": "14w6rr5-8Slf"
      },
      "execution_count": null,
      "outputs": []
    },
    {
      "cell_type": "markdown",
      "source": [
        "## Observation\n",
        "\n",
        "Most of your customers walk in, buy exactly what they need, and walk out. They usually take 1–2 items per visit — not because they’re spending little, but because your products are focused and high-value.\n",
        "\n",
        "Prices vary a lot — from basic products around 50 EGP to premium ones up to 600 EGP. That’s not random — it means you’re selling to **different customer levels**, and you can start thinking in terms of **segments**:\n",
        "- customers who come for essentials,\n",
        "- and others who don’t mind paying more for premium.\n",
        "\n",
        "On the surface, the average sale looks high. But the real story? Most of your revenue is coming from **repeat, mid-range buyers**. The high numbers are driven by a small group, not the majority. So if you want stable growth, **focus on the middle — they’re your backbone**.\n",
        "\n"
      ],
      "metadata": {
        "id": "6jF6xATXAl_h"
      }
    },
    {
      "cell_type": "markdown",
      "source": [
        "##Count unique values in key columns"
      ],
      "metadata": {
        "id": "vNk7o0YrKSYR"
      }
    },
    {
      "cell_type": "code",
      "source": [
        "df.columns"
      ],
      "metadata": {
        "id": "253AngXmKoqJ"
      },
      "execution_count": null,
      "outputs": []
    },
    {
      "cell_type": "code",
      "source": [
        "# Plot distributions\n",
        "fig, axes = plt.subplots(1, 3, figsize=(18, 5))\n",
        "\n",
        "# Quantity\n",
        "sns.histplot(df['Quantity'], bins=20, kde=True, ax=axes[0])\n",
        "axes[0].set_title('Quantity Distribution')\n",
        "\n",
        "# Unit Price\n",
        "sns.histplot(df['Unit_Price'], bins=20, kde=True, ax=axes[1])\n",
        "axes[1].set_title('Unit Price Distribution')\n",
        "\n",
        "# Total Price\n",
        "sns.histplot(df['Total_Price'], bins=20, kde=True, ax=axes[2])\n",
        "axes[2].set_title('Total Price Distribution')\n",
        "\n",
        "plt.tight_layout()\n",
        "plt.show()\n"
      ],
      "metadata": {
        "id": "_udPys2aKVEY"
      },
      "execution_count": null,
      "outputs": []
    },
    {
      "cell_type": "markdown",
      "source": [
        "##  Distribution Insights\n",
        "\n",
        "### 1. Quantity Distribution\n",
        "\n",
        "- Most quantities are **1, 2, or 3**.\n",
        "- The distribution is **discrete** with clear peaks at whole numbers.\n",
        "- This means most customers buy **a small number of items per transaction**.\n",
        "\n",
        "\n",
        "### 2. Unit Price Distribution\n",
        "\n",
        "- Prices are mostly between **50 and 150**.\n",
        "- The distribution is **right-skewed** (long tail on the high side).\n",
        "- A few products have **higher prices** (above 400).\n",
        "- Indicates a product range that is mostly **low to mid price**, with some **high-end items**.\n",
        "\n",
        "\n",
        "### 3. Total Price Distribution\n",
        "\n",
        "- Most total values are below **500**.\n",
        "- The curve shows **right skew**, meaning a few high-value transactions.\n",
        "- Most customers spend **small to moderate amounts**.\n",
        "\n",
        "\n",
        "\n",
        "## Useful Data Points\n",
        "\n",
        "- Quantity values: Mostly **1 to 3**\n",
        "- Common unit price range: **50–150**\n",
        "- Total spend range (most frequent): **0–500**\n",
        "\n",
        "\n",
        "\n",
        "## Notes\n",
        "\n",
        "- Distributions are clean with **no missing or abnormal values**.\n",
        "- Data is ready for the **next analysis step** (e.g., customer behavior, segmentation).\n"
      ],
      "metadata": {
        "id": "6MPY5WbxMqHi"
      }
    },
    {
      "cell_type": "markdown",
      "source": [
        "## Unique Value Counts\n",
        "We also counted the number of unique values in key columns"
      ],
      "metadata": {
        "id": "ipbAfUmkM5I4"
      }
    },
    {
      "cell_type": "code",
      "source": [
        "df.columns"
      ],
      "metadata": {
        "id": "pIr3Ms9lM4Ew"
      },
      "execution_count": null,
      "outputs": []
    },
    {
      "cell_type": "code",
      "source": [
        "# Count unique values\n",
        "unique_products = df['Product'].nunique()\n",
        "unique_branches = df['Branch'].nunique()\n",
        "unique_payments = df['Payment_Method'].nunique()\n",
        "\n",
        "print(\"Unique Products:\", unique_products)\n",
        "print(\"Unique Branches:\", unique_branches)\n",
        "print(\"Unique Payment Methods:\", unique_payments)"
      ],
      "metadata": {
        "id": "XK-t3Cv3MiJx"
      },
      "execution_count": null,
      "outputs": []
    },
    {
      "cell_type": "markdown",
      "source": [
        "### Observation\n",
        "\n",
        "- The business offers **10 types of products**, showing a **moderate product variety**.\n",
        "- There are **4 branches**, which allows for **location-based analysis** (e.g. comparing performance).\n",
        "- With **4 payment methods**, the business gives customers **flexibility in how they pay**, which could affect purchasing behavior.\n",
        "\n",
        "No missing or duplicate values found in these key columns — the data is clean and ready for deeper analysis."
      ],
      "metadata": {
        "id": "ZnwQ6GTONdKK"
      }
    },
    {
      "cell_type": "markdown",
      "source": [
        "## 2.  Sales Over Time\n",
        "**Goal:** Identify trends in sales across different time periods.\n",
        "\n",
        "- Group data by month and calculate total sales.\n",
        "- Line chart: Monthly Total Sales\n",
        "- Line chart: Monthly Number of Transactions\n",
        "- Optional: Monthly sales trend for each branch\n"
      ],
      "metadata": {
        "id": "0P_dUkQcNus4"
      }
    },
    {
      "cell_type": "code",
      "source": [
        "# Calculate total sales per month\n",
        "monthly_sales = df.groupby('Month')['Total_Price'].sum()\n",
        "\n",
        "# Calculate number of transactions per month (unique Invoice_IDs)\n",
        "monthly_transactions = df.groupby('Month')['Invoice_ID'].nunique()\n",
        "\n",
        "# Optional: Monthly sales trend per branch\n",
        "branch_sales_trend = df.groupby(['Month', 'Branch'])['Total_Price'].sum().unstack()\n",
        "\n",
        "# Plotting the line charts\n",
        "\n",
        "# 1. Monthly Total Sales\n",
        "plt.figure(figsize=(10, 6))\n",
        "plt.plot(monthly_sales.index.astype(str), monthly_sales.values, label='Total Sales')\n",
        "plt.title('Monthly Total Sales')\n",
        "plt.xlabel('Month')\n",
        "plt.ylabel('Total Sales')\n",
        "plt.xticks(rotation=45)\n",
        "plt.grid(True)\n",
        "plt.tight_layout()\n",
        "plt.show()\n"
      ],
      "metadata": {
        "id": "BaTm-Nm_P02r"
      },
      "execution_count": null,
      "outputs": []
    },
    {
      "cell_type": "markdown",
      "source": [
        "##  Monthly Sales Summary\n",
        "\n",
        "- **March** had the highest sales (~170,000) — likely due to promotions or seasonal demand.\n",
        "- **April & May** saw a sharp drop in sales — possible issues with stock or customer demand.\n",
        "- **June to December** sales were **low but stable** (65K–90K).\n",
        "\n",
        "##  Recommendations\n",
        "\n",
        "- Repeat successful **March promotions** in other months.\n",
        "- Investigate **reasons for the April–May drop** and resolve them.\n",
        "- Boost sales with **offers during weak months** (e.g., May, October)."
      ],
      "metadata": {
        "id": "czZtGOKNRnph"
      }
    },
    {
      "cell_type": "code",
      "source": [
        "# 2. Monthly Number of Transactions\n",
        "plt.figure(figsize=(10, 6))\n",
        "plt.plot(monthly_transactions.index.astype(str), monthly_transactions.values, label='Number of Transactions', color='orange')\n",
        "plt.title('Monthly Number of Transactions')\n",
        "plt.xlabel('Month')\n",
        "plt.ylabel('Number of Transactions')\n",
        "plt.xticks(rotation=45)\n",
        "plt.grid(True)\n",
        "plt.tight_layout()\n",
        "plt.show()\n"
      ],
      "metadata": {
        "id": "NVEIyiibQCHh"
      },
      "execution_count": null,
      "outputs": []
    },
    {
      "cell_type": "markdown",
      "source": [
        "##  Monthly Transactions Summary\n",
        "\n",
        "- **March** had the highest number of transactions (~355).\n",
        "- **Big drop in April and May** — transactions fell to around 165.\n",
        "- **June to December** stayed **low and steady** (150–180).\n",
        "\n",
        "##  Recommendations\n",
        "\n",
        "- Study **what worked in March** (ads, events, etc.).\n",
        "- Try to **increase customer visits** during low months.\n",
        "- Combine **offers with marketing** to raise transactions again."
      ],
      "metadata": {
        "id": "02adiqK9R5u5"
      }
    },
    {
      "cell_type": "code",
      "source": [
        "# 3. Optional: Monthly Sales Trend per Branch\n",
        "branch_sales_trend.plot(figsize=(12, 8), title=\"Monthly Sales Trend per Branch\", marker='o')\n",
        "plt.xlabel('Month')\n",
        "plt.ylabel('Total Sales')\n",
        "plt.xticks(rotation=45)\n",
        "plt.grid(True)\n",
        "plt.tight_layout()\n",
        "plt.show()"
      ],
      "metadata": {
        "id": "HocrffZRQGyx"
      },
      "execution_count": null,
      "outputs": []
    },
    {
      "cell_type": "markdown",
      "source": [
        "##  Branch Sales Trend Summary\n",
        "\n",
        "- **All branches** had highest sales in **March**.\n",
        "- After March, sales dropped clearly in **all branches**.\n",
        "- From **June to December**, sales were **lower and unstable**, with small ups and downs.\n",
        "\n",
        "###  Branch Highlights\n",
        "\n",
        "- **Port Said** had the **highest peak** in March (~49,000).\n",
        "- **Cairo** and **6th October** had good sales early, but dropped fast.\n",
        "- **Alexandria** showed some recovery in mid-year (July–September).\n",
        "\n",
        "##  Recommendations\n",
        "\n",
        "- Focus on **March strategies** to repeat success.\n",
        "- Support weaker branches with **local promotions**.\n",
        "- Try to keep sales stable by **analyzing top-performing months** in each branch.\n"
      ],
      "metadata": {
        "id": "KZalyb49SE7x"
      }
    },
    {
      "cell_type": "markdown",
      "source": [
        "###Compare sales behavior across different branches by analyzing:\n",
        "- Total price\n",
        "- Quantity sold\n",
        "- Unit price"
      ],
      "metadata": {
        "id": "nxeHUrLHOgrp"
      }
    },
    {
      "cell_type": "code",
      "source": [
        "# Average total price per branch\n",
        "df.groupby('Branch')['Total_Price'].mean().sort_values(ascending=False)"
      ],
      "metadata": {
        "id": "VP8iDHNkN5OC"
      },
      "execution_count": null,
      "outputs": []
    },
    {
      "cell_type": "markdown",
      "source": [],
      "metadata": {
        "id": "uT37rv-rN9_a"
      }
    },
    {
      "cell_type": "code",
      "source": [
        "# Average quantity per branch\n",
        "df.groupby('Branch')['Quantity'].mean().sort_values(ascending=False)\n"
      ],
      "metadata": {
        "id": "OUsqcR5_Ox5x"
      },
      "execution_count": null,
      "outputs": []
    },
    {
      "cell_type": "code",
      "source": [
        "\n",
        "# Average unit price per branch\n",
        "df.groupby('Branch')['Unit_Price'].mean().sort_values(ascending=False)"
      ],
      "metadata": {
        "id": "ZxkguUu5O1Ti"
      },
      "execution_count": null,
      "outputs": []
    },
    {
      "cell_type": "markdown",
      "source": [
        "##  Branch-Level Sales Insights\n",
        "\n",
        "###  Observations Based on Quantity and Unit Price:\n",
        "\n",
        "-  **Quantity**:\n",
        "  - All branches have a **very similar average quantity** per transaction, ranging from **2.02 to 2.04 units**.\n",
        "  - This suggests **consistent buying behavior** across locations in terms of volume.\n",
        "\n",
        "-  **Unit Price**:\n",
        "  - **Alexandria** has the **highest average unit price** at **231.72**, slightly higher than the others.\n",
        "  - **6th October** branch has the **lowest average unit price** at **217.08**.\n",
        "  - This may indicate **different product mixes or pricing strategies** across branches.\n",
        "\n",
        "###  Insights:\n",
        "- While purchase volume is stable across branches, **pricing differences suggest that Alexandria might be selling more premium or expensive products**.\n",
        "- Further analysis could confirm if product type or brand availability differs by branch."
      ],
      "metadata": {
        "id": "iI5LpQ0sPNca"
      }
    },
    {
      "cell_type": "code",
      "source": [
        "branch_sales = df.groupby(\"Branch\")[\"Total_Price\"].sum().sort_values(ascending=False)\n",
        "\n",
        "#Bar Chart\n",
        "plt.figure(figsize=(8, 6))\n",
        "branch_sales.plot(kind='bar', color='skyblue', edgecolor='black')\n",
        "\n",
        "plt.title(\"Total Sales per Branch\")\n",
        "plt.xlabel(\"Branch\")\n",
        "plt.ylabel(\"Total Sales\")\n",
        "plt.xticks(rotation=45)\n",
        "plt.tight_layout()\n",
        "plt.grid(axis='y', linestyle='--', alpha=0.7)\n",
        "plt.show()\n"
      ],
      "metadata": {
        "id": "MGO-pT3mPUY5"
      },
      "execution_count": null,
      "outputs": []
    },
    {
      "cell_type": "markdown",
      "source": [
        "port said is bigest branche"
      ],
      "metadata": {
        "id": "50_psJ9FSuju"
      }
    },
    {
      "cell_type": "markdown",
      "source": [
        "## 4.  Product & Brand Insights\n",
        "**Goal:** Identify best-selling products and top revenue-generating brands.\n",
        "\n",
        "- Top 10 Products by:\n",
        "  - Quantity sold\n",
        "  - Total sales\n",
        "- Top Brands by revenue\n",
        "- Bar chart: Top 10 Products\n",
        "- Bar chart: Top Brands\n"
      ],
      "metadata": {
        "id": "DHZRXccUTKtJ"
      }
    },
    {
      "cell_type": "code",
      "source": [
        "top_products_qty = df.groupby(\"Product\")[\"Quantity\"].sum().sort_values(ascending=False).head(10)\n",
        "\n",
        "\n",
        "top_products_qty.plot(kind=\"bar\", color=\"lightgreen\", edgecolor='black')\n",
        "plt.title(\"Top 10 Products by Quantity Sold\")\n",
        "plt.xlabel(\"Product\")\n",
        "plt.ylabel(\"Total Quantity Sold\")\n",
        "plt.xticks(rotation=45, ha=\"right\")\n",
        "plt.tight_layout()\n",
        "plt.show()\n"
      ],
      "metadata": {
        "id": "N_1yYrkGTJFs"
      },
      "execution_count": null,
      "outputs": []
    },
    {
      "cell_type": "markdown",
      "source": [
        "###  Top 10 Products by Quantity Sold\n",
        "\n",
        "- **Pet Bed** and **Scratching Post** are the best-selling products by quantity.\n",
        "- All top 10 products have similar quantities sold, ranging around 490–570 units.\n",
        "- The top products include a mix of **pet accessories** and **pet food items**.\n",
        "- This suggests a balanced demand between pet care products and food.\n"
      ],
      "metadata": {
        "id": "CGY21vW-Uanb"
      }
    },
    {
      "cell_type": "code",
      "source": [
        "### 2.  Top 10 Products by Total Sales\n",
        "top_products_sales = df.groupby(\"Product\")[\"Total_Price\"].sum().sort_values(ascending=False).head(10)\n",
        "\n",
        "\n",
        "top_products_sales.plot(kind=\"bar\", color=\"skyblue\", edgecolor='black')\n",
        "plt.title(\"Top 10 Products by Total Sales\")\n",
        "plt.xlabel(\"Product\")\n",
        "plt.ylabel(\"Total Revenue\")\n",
        "plt.xticks(rotation=45, ha=\"right\")\n",
        "plt.tight_layout()\n",
        "plt.show()"
      ],
      "metadata": {
        "id": "iru-Jex0TXuT"
      },
      "execution_count": null,
      "outputs": []
    },
    {
      "cell_type": "markdown",
      "source": [
        "###  Top 10 Products by Total Sales\n",
        "\n",
        "- **Pet Bed** generated the highest revenue by a large margin.\n",
        "- **Pet Carrier**, **Dry Dog Food**, and **Dry Cat Food** also contributed significantly to total sales.\n",
        "- Despite high quantities, some products like **Chew Toy** and **Leash** have lower revenue, suggesting lower unit prices.\n",
        "- High-value items (e.g., Pet Bed, Pet Carrier) play a major role in revenue.\n"
      ],
      "metadata": {
        "id": "w5QVBROQUg0p"
      }
    },
    {
      "cell_type": "code",
      "source": [
        "### 3.  Top Brands by Revenue\n",
        "top_brands_sales = df.groupby(\"Brand\")[\"Total_Price\"].sum().sort_values(ascending=False).head(10)\n",
        "\n",
        "\n",
        "top_brands_sales.plot(kind=\"bar\", color=\"salmon\", edgecolor='black')\n",
        "plt.title(\"Top Brands by Total Revenue\")\n",
        "plt.xlabel(\"Brand\")\n",
        "plt.ylabel(\"Total Revenue\")\n",
        "plt.xticks(rotation=45, ha=\"right\")\n",
        "plt.tight_layout()\n",
        "plt.show()\n"
      ],
      "metadata": {
        "id": "OAwmBeyoTaSR"
      },
      "execution_count": null,
      "outputs": []
    },
    {
      "cell_type": "markdown",
      "source": [
        "### Top Brands by Total Revenue\n",
        "\n",
        "- **Royal Canin** is the leading brand in terms of revenue, followed by **Hill's** and **Whiskas**.\n",
        "- All top brands have total revenue above 130,000, showing strong performance.\n",
        "- The top brands are mainly focused on **pet food and nutrition**, indicating it's a high-revenue category.\n",
        "- **Friskies** has the lowest revenue among the top brands but still shows solid sales.\n"
      ],
      "metadata": {
        "id": "BYnAax6lUocp"
      }
    },
    {
      "cell_type": "markdown",
      "source": [
        "#  Summary – Product & Brand Analysis\n",
        "\n",
        "- **Pet Bed** is the top-selling product.\n",
        "- Food and care items are very popular.\n",
        "- Expensive products (like **Pet Carrier**) make more money even if sold less.\n",
        "- **Royal Canin** is the top brand by revenue, then **Hill’s** and **Whiskas**.\n",
        "- Food brands bring the most money.\n",
        "- Cheap items sell a lot but give less profit."
      ],
      "metadata": {
        "id": "InBfmQiHVB15"
      }
    },
    {
      "cell_type": "markdown",
      "source": [
        "# 5. Payment Method Analysis\n",
        "Goal: Understand customer payment preferences.\n",
        "\n",
        "Count of sales by payment method\n",
        "Total revenue per payment method\n",
        "Bar chart: Payment Method Usage\n",
        "Optional: Payment trends by branch or over time"
      ],
      "metadata": {
        "id": "RwHL1iwDVaZa"
      }
    },
    {
      "cell_type": "code",
      "source": [
        "# 1. Count of sales by payment method\n",
        "payment_counts = df['Payment_Method'].value_counts()\n",
        "print(\"Sales Count by Payment Method:\\n\", payment_counts)"
      ],
      "metadata": {
        "id": "IX3EwWY6VdiM"
      },
      "execution_count": null,
      "outputs": []
    },
    {
      "cell_type": "code",
      "source": [
        "# 2. Total revenue per payment method\n",
        "revenue_by_payment = df.groupby('Payment_Method')['Total_Price'].sum()\n",
        "print(\"\\nTotal Revenue by Payment Method:\\n\", revenue_by_payment)\n"
      ],
      "metadata": {
        "id": "A2qHpTvBVl-a"
      },
      "execution_count": null,
      "outputs": []
    },
    {
      "cell_type": "code",
      "source": [
        "# 3. Bar chart: Payment Method Usage\n",
        "plt.figure(figsize=(8,5))\n",
        "sns.countplot(data=df, x='Payment_Method', palette='pastel')\n",
        "plt.title(\"Payment Method Usage (Sales Count)\")\n",
        "plt.ylabel(\"Number of Sales\")\n",
        "plt.xlabel(\"Payment Method\")\n",
        "plt.xticks(rotation=45)\n",
        "plt.tight_layout()\n",
        "plt.show()"
      ],
      "metadata": {
        "id": "OJm5veMKVEAr"
      },
      "execution_count": null,
      "outputs": []
    },
    {
      "cell_type": "markdown",
      "source": [
        "### Insights from the Chart:\n",
        "\n",
        "- **Mobile Wallet** is the most preferred payment method with the highest number of sales.\n",
        "- **Visa**, **Cash**, and **Installments** have nearly equal usage, with a lower number of sales compared to Mobile Wallet.\n",
        "- Customers show a strong trend toward digital payments over traditional methods."
      ],
      "metadata": {
        "id": "nlwr7DpIXQFQ"
      }
    },
    {
      "cell_type": "code",
      "source": [
        "# Optional: Payment method usage by branch\n",
        "plt.figure(figsize=(10,6))\n",
        "sns.countplot(data=df, x='Branch', hue='Payment_Method', palette='Set2')\n",
        "plt.title(\"Payment Method Distribution by Branch\")\n",
        "plt.xlabel(\"Branch\")\n",
        "plt.ylabel(\"Number of Sales\")\n",
        "plt.tight_layout()\n",
        "plt.show()"
      ],
      "metadata": {
        "id": "dfIwnDzVV2Si"
      },
      "execution_count": null,
      "outputs": []
    },
    {
      "cell_type": "markdown",
      "source": [
        "### Insights from the Chart:\n",
        "\n",
        "- **Mobile Wallet** is the most used payment method across all branches.\n",
        "- **Visa**, **Cash**, and **Installments** have similar usage in most branches.\n",
        "- **Port Said** branch has the highest use of **Cash** compared to other branches.\n",
        "- **Cairo** branch shows a more balanced use of all payment methods.\n",
        "- **6th October** and **Cairo** branches have the highest number of Mobile Wallet users.\n",
        "\n",
        "### Business Value:\n",
        "\n",
        "- Focus marketing and promotions on **Mobile Wallet** to match customer preferences.\n",
        "- Consider offering incentives for alternative methods (e.g. Visa or Installments) in branches where usage is low.\n",
        "- Analyze why **Cash** is higher in Port Said — may suggest customer preference or limited access to digital payment."
      ],
      "metadata": {
        "id": "WzY-ZQN7XRry"
      }
    },
    {
      "cell_type": "markdown",
      "source": [
        "### Key Findings:\n",
        "\n",
        "- **Mobile Wallet** is the most used payment method with **1,117 sales** and the highest total revenue (**507,340**).\n",
        "- **Cash**, **Visa**, and **Installments** are nearly equal in usage (~490–502 sales).\n",
        "- **Cash** and **Installments** generate similar revenues (**223,280** and **222,840** respectively).\n",
        "- **Visa** has the lowest revenue (**219,510**) among all methods.\n",
        "\n",
        "### Branch-Level Insights:\n",
        "\n",
        "- **Mobile Wallet** leads in every branch, especially in **Cairo** and **6th October**.\n",
        "- **Port Said** has the highest usage of **Cash**.\n",
        "- **Cairo** shows a balanced use of all payment methods.\n",
        "\n",
        "### Business Recommendations:\n",
        "\n",
        "- Focus on promoting **Mobile Wallet** offers and support.\n",
        "- Investigate reasons behind higher **Cash** use in **Port Said**.\n",
        "- Encourage use of **Visa** through targeted incentives to boost revenue."
      ],
      "metadata": {
        "id": "o0tH2Tz3X46x"
      }
    }
  ]
}